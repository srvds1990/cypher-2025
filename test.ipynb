{
 "cells": [
  {
   "cell_type": "code",
   "execution_count": 1,
   "id": "a941c972",
   "metadata": {},
   "outputs": [
    {
     "name": "stdout",
     "output_type": "stream",
     "text": [
      "['Generative AI: Job Enabler or Disruptor?']\n",
      "[\"gate friends, you want to see edge cases, you want to see what program. Otherwise, it's like hunting for an le in a hump. It's very hard. So evaluations are really more than functional quality, right? You have to look at trust, safety, security, responsible AI, especially when doing something as an accessible and important as recruiting, which is, you know, primary modelization is doing, we need to be extra category. Also, you've got to b for optionalality. If you look at the space, it's moving really, really fast.? So you've got to be like nim and flexible, which is, open standards, as I said, there was no MCP that your skills, so we build skills right now we have MCP, so we are right to raise MCB. I'm also trying to buy or adopt rather than the intended group to bail everything in housing. And like last but not least, you do not want to invest in expensive refactring of your application in this space is moving so fast. So invest in the right abstractions to isolate your business so that we can move as fast as possible. So if edge was nitrated using charge GVD, but it shows that different like dancing, which is not how you should be thinking how marketing is. It's a pretty complex system but to make it you know, like nimble and sort of make it dance. That's it. I have my QR4 then, you want connect on.. Let's go. How? God. Not having use of value use an response.\", \"an resume and start executing after an arbitrary amount of fight. All the system's architecture will UI, your controls those, half prot for this human in the roof. So humans can a small man they want. You have to use US sp, classic part to send a notification to a human that dream for the users in a spot. And you have to building for this event during the. You cannot assume syncness compute., this is just like thising. Only thing you're working with in ign deterministic system, so you have to have very regularous evaluations. So the idea is you have to combine humans and Asians to utilise the best of both. Humans are good for defining policy and scoring things initially to say they't know what this is good. And after that, we throw some automation I to scale right? Humans are also work at capturing nuance and subjectivity, something that Asians still struggle with. So generally what we do is we have influence, capture nuance, provid guidelines, and again, the automat escape, right And all of this, since you're already going a huge dataatide, you need really good cooling to visualise the results and take action. You want to see aggregate friends, you want to see edge cases, you want to see what program. Otherwise, it's like hunting for an le in a hump. It's very hard. So evaluations are really more than functional quality, right?\"]\n"
     ]
    }
   ],
   "source": [
    "# Quick test in a Python shell\n",
    "from db.vector_store import list_sessions, semantic_search_by_text\n",
    "\n",
    "print(list_sessions())\n",
    "# ['Generative AI: Job Enabler or Disruptor?']\n",
    "\n",
    "res = semantic_search_by_text(\"key takeaways from the debate\")\n",
    "print(res[\"documents\"][0][:2])  # see first 2 retrieved chunks\n"
   ]
  }
 ],
 "metadata": {
  "kernelspec": {
   "display_name": "Python 3",
   "language": "python",
   "name": "python3"
  },
  "language_info": {
   "codemirror_mode": {
    "name": "ipython",
    "version": 3
   },
   "file_extension": ".py",
   "mimetype": "text/x-python",
   "name": "python",
   "nbconvert_exporter": "python",
   "pygments_lexer": "ipython3",
   "version": "3.13.7"
  }
 },
 "nbformat": 4,
 "nbformat_minor": 5
}
